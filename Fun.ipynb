{
 "cells": [
  {
   "cell_type": "markdown",
   "metadata": {},
   "source": [
    "### Library imports"
   ]
  },
  {
   "cell_type": "code",
   "execution_count": 1,
   "metadata": {},
   "outputs": [],
   "source": [
    "import numpy as np\n",
    "import pandas as pd\n",
    "import re\n",
    "from matplotlib import pyplot as plt"
   ]
  },
  {
   "cell_type": "markdown",
   "metadata": {},
   "source": [
    "### Open file and split into seperate games\n",
    "#### and show example game"
   ]
  },
  {
   "cell_type": "code",
   "execution_count": 45,
   "metadata": {},
   "outputs": [
    {
     "name": "stdout",
     "output_type": "stream",
     "text": [
      "[Event \"Casual Chess960 game\"]\n",
      "[Site \"https://lichess.org/OK3IJFR4\"]\n",
      "[Date \"2019.12.08\"]\n",
      "[Round \"-\"]\n",
      "[White \"baleful\"]\n",
      "[Black \"EricRosen\"]\n",
      "[Result \"0-1\"]\n",
      "[UTCDate \"2019.12.08\"]\n",
      "[UTCTime \"18:45:20\"]\n",
      "[WhiteElo \"1625\"]\n",
      "[BlackElo \"2074\"]\n",
      "[BlackTitle \"IM\"]\n",
      "[Variant \"Chess960\"]\n",
      "[TimeControl \"180+2\"]\n",
      "[ECO \"?\"]\n",
      "[Termination \"Normal\"]\n",
      "[FEN \"qrnbkrbn/pppppppp/8/8/8/8/PPPPPPPP/QRNBKRBN w KQkq - 0 1\"]\n",
      "[SetUp \"1\"]\n",
      "\n",
      "1. f4 b5 2. Rf3 Ng6 3. g3 f6 4. Nf2 Bd5 5. e4 Bxe4 6. Nxe4 Qxe4+ 7. Be2 Qxc2 8. Nd3 Nd6 9. Rc1 Qa4 10. b3 Qa5 11. Bc5 Ne4 12. b4 Qa6 13. Re3 d5 14. Bf3 Qb7 15. Qd4 e5 16. fxe5 fxe5 17. Nxe5 Bf6 18. Bxe4 O-O-O 19. Bf5+ Kb8 20. Bxa7+ Ka8 21. Bxg6 hxg6 22. Ra3 Bxe5 23. Qxe5 Rfe8 24. Bb6+ Kb8 25. Bxc7+ Qxc7 26. Rxc7 Rxe5+ 27. Kf2 Kxc7 28. Ra8 Rxa8 0-1\n"
     ]
    }
   ],
   "source": [
    "file = open(\"EricRosen.txt\")\n",
    "text = file.read()\n",
    "games = re.split('\\n\\n\\n',text)[:-1]\n",
    "print(games[1])"
   ]
  },
  {
   "cell_type": "markdown",
   "metadata": {},
   "source": [
    "### Extract metadata rows and turn it into a a list of dictionaries\n",
    "##### E.g: \"Event\" : \"Casual Blitz game\", \" Date\" : \"2019.12.08\", ... for every game"
   ]
  },
  {
   "cell_type": "code",
   "execution_count": 71,
   "metadata": {},
   "outputs": [],
   "source": [
    "metaDataRegex = re.compile('(\\w+) \"(.*)\"', re.MULTILINE)\n",
    "movesRegex = re.compile(']\\n\\n(.*) [012/\\-]{3,}')\n",
    "metaData = []\n",
    "moves = []\n",
    "\n",
    "for game in games:\n",
    "    moves.append(re.search(movesRegex, game).group(1))\n",
    "    gameData = {}\n",
    "    for (key, value) in re.findall(metaDataRegex, game):\n",
    "        gameData[key] = value\n",
    "    metaData.append(gameData.copy())"
   ]
  },
  {
   "cell_type": "markdown",
   "metadata": {},
   "source": [
    "### Create pandas dataframe of the data for ultimate data science"
   ]
  },
  {
   "cell_type": "code",
   "execution_count": 73,
   "metadata": {},
   "outputs": [
    {
     "data": {
      "text/html": [
       "<div>\n",
       "<style scoped>\n",
       "    .dataframe tbody tr th:only-of-type {\n",
       "        vertical-align: middle;\n",
       "    }\n",
       "\n",
       "    .dataframe tbody tr th {\n",
       "        vertical-align: top;\n",
       "    }\n",
       "\n",
       "    .dataframe thead th {\n",
       "        text-align: right;\n",
       "    }\n",
       "</style>\n",
       "<table border=\"1\" class=\"dataframe\">\n",
       "  <thead>\n",
       "    <tr style=\"text-align: right;\">\n",
       "      <th></th>\n",
       "      <th>Event</th>\n",
       "      <th>Site</th>\n",
       "      <th>Date</th>\n",
       "      <th>Round</th>\n",
       "      <th>White</th>\n",
       "      <th>Black</th>\n",
       "      <th>Result</th>\n",
       "      <th>UTCDate</th>\n",
       "      <th>UTCTime</th>\n",
       "      <th>WhiteElo</th>\n",
       "      <th>BlackElo</th>\n",
       "      <th>WhiteRatingDiff</th>\n",
       "      <th>BlackRatingDiff</th>\n",
       "      <th>WhiteTitle</th>\n",
       "      <th>Variant</th>\n",
       "      <th>TimeControl</th>\n",
       "      <th>ECO</th>\n",
       "      <th>Termination</th>\n",
       "    </tr>\n",
       "  </thead>\n",
       "  <tbody>\n",
       "    <tr>\n",
       "      <th>0</th>\n",
       "      <td>Casual Blitz game</td>\n",
       "      <td>https://lichess.org/FKFHeB0u</td>\n",
       "      <td>2019.12.08</td>\n",
       "      <td>-</td>\n",
       "      <td>EricRosen</td>\n",
       "      <td>chessonmars</td>\n",
       "      <td>1-0</td>\n",
       "      <td>2019.12.08</td>\n",
       "      <td>18:55:49</td>\n",
       "      <td>2535</td>\n",
       "      <td>1665</td>\n",
       "      <td>NaN</td>\n",
       "      <td>NaN</td>\n",
       "      <td>IM</td>\n",
       "      <td>Standard</td>\n",
       "      <td>300+3</td>\n",
       "      <td>A00</td>\n",
       "      <td>Normal</td>\n",
       "    </tr>\n",
       "    <tr>\n",
       "      <th>1</th>\n",
       "      <td>Casual Chess960 game</td>\n",
       "      <td>https://lichess.org/OK3IJFR4</td>\n",
       "      <td>2019.12.08</td>\n",
       "      <td>-</td>\n",
       "      <td>baleful</td>\n",
       "      <td>EricRosen</td>\n",
       "      <td>0-1</td>\n",
       "      <td>2019.12.08</td>\n",
       "      <td>18:45:20</td>\n",
       "      <td>1625</td>\n",
       "      <td>2074</td>\n",
       "      <td>NaN</td>\n",
       "      <td>NaN</td>\n",
       "      <td>NaN</td>\n",
       "      <td>Chess960</td>\n",
       "      <td>180+2</td>\n",
       "      <td>?</td>\n",
       "      <td>Normal</td>\n",
       "    </tr>\n",
       "    <tr>\n",
       "      <th>2</th>\n",
       "      <td>Casual Blitz game</td>\n",
       "      <td>https://lichess.org/VVcCr4kA</td>\n",
       "      <td>2019.12.08</td>\n",
       "      <td>-</td>\n",
       "      <td>Bein_Jon</td>\n",
       "      <td>EricRosen</td>\n",
       "      <td>0-1</td>\n",
       "      <td>2019.12.08</td>\n",
       "      <td>18:35:55</td>\n",
       "      <td>1045</td>\n",
       "      <td>2535</td>\n",
       "      <td>NaN</td>\n",
       "      <td>NaN</td>\n",
       "      <td>NaN</td>\n",
       "      <td>Standard</td>\n",
       "      <td>300+0</td>\n",
       "      <td>A02</td>\n",
       "      <td>Normal</td>\n",
       "    </tr>\n",
       "    <tr>\n",
       "      <th>3</th>\n",
       "      <td>Casual Blitz game</td>\n",
       "      <td>https://lichess.org/fCy6d9P1</td>\n",
       "      <td>2019.12.08</td>\n",
       "      <td>-</td>\n",
       "      <td>EricRosen</td>\n",
       "      <td>NiSyndrome</td>\n",
       "      <td>1-0</td>\n",
       "      <td>2019.12.08</td>\n",
       "      <td>18:25:14</td>\n",
       "      <td>2535</td>\n",
       "      <td>1348</td>\n",
       "      <td>NaN</td>\n",
       "      <td>NaN</td>\n",
       "      <td>IM</td>\n",
       "      <td>Standard</td>\n",
       "      <td>300+0</td>\n",
       "      <td>C67</td>\n",
       "      <td>Normal</td>\n",
       "    </tr>\n",
       "    <tr>\n",
       "      <th>4</th>\n",
       "      <td>Casual Blitz game</td>\n",
       "      <td>https://lichess.org/jUUENSD5</td>\n",
       "      <td>2019.12.08</td>\n",
       "      <td>-</td>\n",
       "      <td>EricRosen</td>\n",
       "      <td>TARAKS</td>\n",
       "      <td>1-0</td>\n",
       "      <td>2019.12.08</td>\n",
       "      <td>18:17:10</td>\n",
       "      <td>2535</td>\n",
       "      <td>1094</td>\n",
       "      <td>NaN</td>\n",
       "      <td>NaN</td>\n",
       "      <td>IM</td>\n",
       "      <td>Standard</td>\n",
       "      <td>300+3</td>\n",
       "      <td>C36</td>\n",
       "      <td>Normal</td>\n",
       "    </tr>\n",
       "  </tbody>\n",
       "</table>\n",
       "</div>"
      ],
      "text/plain": [
       "                  Event                          Site        Date Round  \\\n",
       "0     Casual Blitz game  https://lichess.org/FKFHeB0u  2019.12.08     -   \n",
       "1  Casual Chess960 game  https://lichess.org/OK3IJFR4  2019.12.08     -   \n",
       "2     Casual Blitz game  https://lichess.org/VVcCr4kA  2019.12.08     -   \n",
       "3     Casual Blitz game  https://lichess.org/fCy6d9P1  2019.12.08     -   \n",
       "4     Casual Blitz game  https://lichess.org/jUUENSD5  2019.12.08     -   \n",
       "\n",
       "       White        Black Result     UTCDate   UTCTime WhiteElo BlackElo  \\\n",
       "0  EricRosen  chessonmars    1-0  2019.12.08  18:55:49     2535     1665   \n",
       "1    baleful    EricRosen    0-1  2019.12.08  18:45:20     1625     2074   \n",
       "2   Bein_Jon    EricRosen    0-1  2019.12.08  18:35:55     1045     2535   \n",
       "3  EricRosen   NiSyndrome    1-0  2019.12.08  18:25:14     2535     1348   \n",
       "4  EricRosen       TARAKS    1-0  2019.12.08  18:17:10     2535     1094   \n",
       "\n",
       "  WhiteRatingDiff BlackRatingDiff WhiteTitle   Variant TimeControl  ECO  \\\n",
       "0             NaN             NaN         IM  Standard       300+3  A00   \n",
       "1             NaN             NaN        NaN  Chess960       180+2    ?   \n",
       "2             NaN             NaN        NaN  Standard       300+0  A02   \n",
       "3             NaN             NaN         IM  Standard       300+0  C67   \n",
       "4             NaN             NaN         IM  Standard       300+3  C36   \n",
       "\n",
       "  Termination  \n",
       "0      Normal  \n",
       "1      Normal  \n",
       "2      Normal  \n",
       "3      Normal  \n",
       "4      Normal  "
      ]
     },
     "execution_count": 73,
     "metadata": {},
     "output_type": "execute_result"
    }
   ],
   "source": [
    "columns = list(metaData[max([len(x) for x in metaData])].keys())\n",
    "d = pd.DataFrame(metaData, columns = columns)\n",
    "d.head()"
   ]
  },
  {
   "cell_type": "code",
   "execution_count": 74,
   "metadata": {},
   "outputs": [
    {
     "data": {
      "text/plain": [
       "array(['Normal', 'Time forfeit', 'Abandoned'], dtype=object)"
      ]
     },
     "execution_count": 74,
     "metadata": {},
     "output_type": "execute_result"
    }
   ],
   "source": [
    "d.Termination.unique()"
   ]
  },
  {
   "cell_type": "markdown",
   "metadata": {},
   "source": [
    "### Define functions to create more columns in the dataframe"
   ]
  },
  {
   "cell_type": "code",
   "execution_count": 75,
   "metadata": {},
   "outputs": [],
   "source": [
    "def isWin(game):\n",
    "    if game['Result'] == \"1/2-1/2\":\n",
    "        return \"Draw\"\n",
    "    elif (game['Result'] == \"1-0\" and game['White'] == \"EricRosen\") or \\\n",
    "       (game['Result'] == \"0-1\" and game['Black'] == \"EricRosen\"):\n",
    "        return \"Win\"\n",
    "    return \"Loss\""
   ]
  },
  {
   "cell_type": "code",
   "execution_count": 76,
   "metadata": {},
   "outputs": [],
   "source": [
    "def nrMoves(move):\n",
    "    return move.count('.')"
   ]
  },
  {
   "cell_type": "markdown",
   "metadata": {},
   "source": [
    "### Add columns with data derived by those functions"
   ]
  },
  {
   "cell_type": "code",
   "execution_count": 86,
   "metadata": {},
   "outputs": [],
   "source": [
    "d['Outcome'] = d.apply(isWin, axis=1)\n",
    "d['NrMoves'] = [nrMoves(m) for m in moves]\n",
    "d['Moves'] = moves"
   ]
  },
  {
   "cell_type": "markdown",
   "metadata": {},
   "source": [
    "## FUN TIME"
   ]
  },
  {
   "cell_type": "code",
   "execution_count": 188,
   "metadata": {},
   "outputs": [
    {
     "name": "stdout",
     "output_type": "stream",
     "text": [
      "14619 total games\n",
      "Win     10365\n",
      "Loss     3645\n",
      "Draw      609\n",
      "Name: Outcome, dtype: int64\n",
      "\n",
      "70.90% win rate\n"
     ]
    }
   ],
   "source": [
    "value_counts = d.Outcome.value_counts()\n",
    "print(len(d),\"total games\")\n",
    "print(value_counts)\n",
    "print(str.format('\\n{:.2f}% win rate',value_counts['Win']/value_counts.sum()*100))"
   ]
  },
  {
   "cell_type": "markdown",
   "metadata": {},
   "source": [
    "### Nr of moves analyses"
   ]
  },
  {
   "cell_type": "code",
   "execution_count": 142,
   "metadata": {},
   "outputs": [
    {
     "data": {
      "image/png": "[encoded data removed]",
      "text/plain": [
       "<Figure size 432x288 with 1 Axes>"
      ]
     },
     "metadata": {
      "needs_background": "light"
     },
     "output_type": "display_data"
    }
   ],
   "source": [
    "d.NrMoves.hist(bins=51);\n",
    "plt.title('Moves per game');\n",
    "plt.xlabel(\"Number of moves\");\n",
    "plt.ylabel(\"Number of games\");"
   ]
  },
  {
   "cell_type": "code",
   "execution_count": 136,
   "metadata": {},
   "outputs": [],
   "source": [
    "wins = d.loc[d.Outcome == \"Win\"]\n",
    "losses = d.loc[d.Outcome == \"Loss\"]"
   ]
  },
  {
   "cell_type": "code",
   "execution_count": 140,
   "metadata": {},
   "outputs": [
    {
     "name": "stdout",
     "output_type": "stream",
     "text": [
      "Wins:\n",
      " count    10365.000000\n",
      "mean        36.862518\n",
      "std         17.234867\n",
      "min          0.000000\n",
      "25%         24.000000\n",
      "50%         35.000000\n",
      "75%         48.000000\n",
      "max        153.000000\n",
      "Name: NrMoves, dtype: float64 \n",
      "\n",
      "\n",
      "Losses:\n",
      " count    3645.000000\n",
      "mean       45.796982\n",
      "std        17.590067\n",
      "min         0.000000\n",
      "25%        33.000000\n",
      "50%        46.000000\n",
      "75%        58.000000\n",
      "max       136.000000\n",
      "Name: NrMoves, dtype: float64\n"
     ]
    }
   ],
   "source": [
    "print('Wins:\\n', wins.NrMoves.describe(),'\\n\\n')\n",
    "print('Losses:\\n',losses.NrMoves.describe())"
   ]
  },
  {
   "cell_type": "markdown",
   "metadata": {},
   "source": [
    "### Flagging"
   ]
  },
  {
   "cell_type": "code",
   "execution_count": 184,
   "metadata": {},
   "outputs": [],
   "source": [
    "flags = d.loc[d.Termination == \"Time forfeit\"]"
   ]
  },
  {
   "cell_type": "code",
   "execution_count": 185,
   "metadata": {},
   "outputs": [],
   "source": [
    "n_flags = flags.NrMoves.count()\n",
    "flag_wins = len(flags.loc[flags.Outcome == \"Win\"])\n",
    "flag_losses = len(flags.loc[flags.Outcome == \"Loss\"])\n",
    "flag_draws = len(flags.loc[flags.Outcome == \"Draw\"])"
   ]
  },
  {
   "cell_type": "code",
   "execution_count": 187,
   "metadata": {},
   "outputs": [
    {
     "name": "stdout",
     "output_type": "stream",
     "text": [
      "Games ended by flagging (5068):\n",
      "3839 wins (75.7%)\n",
      "1075 losses (21.2%)\n",
      "154 draws (3.0%) ??\n"
     ]
    }
   ],
   "source": [
    "print(str.format('Games ended by flagging ({}):\\n{} wins ({:.1f}%)\\n{} losses ({:.1f}%)\\n{} draws \\\n",
    "({:.1f}%) ??', n_flags, flag_wins, flag_wins/n_flags*100, flag_losses, flag_losses/n_flags*100, flag_draws, \\\n",
    "                 flag_draws/n_flags*100))"
   ]
  },
  {
   "cell_type": "code",
   "execution_count": null,
   "metadata": {},
   "outputs": [],
   "source": []
  }
 ],
 "metadata": {
  "kernelspec": {
   "display_name": "Python 3",
   "language": "python",
   "name": "python3"
  },
  "language_info": {
   "codemirror_mode": {
    "name": "ipython",
    "version": 3
   },
   "file_extension": ".py",
   "mimetype": "text/x-python",
   "name": "python",
   "nbconvert_exporter": "python",
   "pygments_lexer": "ipython3",
   "version": "3.7.0"
  }
 },
 "nbformat": 4,
 "nbformat_minor": 2
}
